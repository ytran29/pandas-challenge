{
 "cells": [
  {
   "cell_type": "markdown",
   "metadata": {},
   "source": [
    "### Note\n",
    "* Instructions have been included for each segment. You do not have to follow them exactly, but they are included to help you think through the steps."
   ]
  },
  {
   "cell_type": "code",
   "execution_count": 83,
   "metadata": {},
   "outputs": [
    {
     "data": {
      "text/html": [
       "<div>\n",
       "<style scoped>\n",
       "    .dataframe tbody tr th:only-of-type {\n",
       "        vertical-align: middle;\n",
       "    }\n",
       "\n",
       "    .dataframe tbody tr th {\n",
       "        vertical-align: top;\n",
       "    }\n",
       "\n",
       "    .dataframe thead th {\n",
       "        text-align: right;\n",
       "    }\n",
       "</style>\n",
       "<table border=\"1\" class=\"dataframe\">\n",
       "  <thead>\n",
       "    <tr style=\"text-align: right;\">\n",
       "      <th></th>\n",
       "      <th>Purchase ID</th>\n",
       "      <th>SN</th>\n",
       "      <th>Age</th>\n",
       "      <th>Gender</th>\n",
       "      <th>Item ID</th>\n",
       "      <th>Item Name</th>\n",
       "      <th>Price</th>\n",
       "    </tr>\n",
       "  </thead>\n",
       "  <tbody>\n",
       "    <tr>\n",
       "      <td>0</td>\n",
       "      <td>0</td>\n",
       "      <td>Lisim78</td>\n",
       "      <td>20</td>\n",
       "      <td>Male</td>\n",
       "      <td>108</td>\n",
       "      <td>Extraction, Quickblade Of Trembling Hands</td>\n",
       "      <td>3.53</td>\n",
       "    </tr>\n",
       "    <tr>\n",
       "      <td>1</td>\n",
       "      <td>1</td>\n",
       "      <td>Lisovynya38</td>\n",
       "      <td>40</td>\n",
       "      <td>Male</td>\n",
       "      <td>143</td>\n",
       "      <td>Frenzied Scimitar</td>\n",
       "      <td>1.56</td>\n",
       "    </tr>\n",
       "    <tr>\n",
       "      <td>2</td>\n",
       "      <td>2</td>\n",
       "      <td>Ithergue48</td>\n",
       "      <td>24</td>\n",
       "      <td>Male</td>\n",
       "      <td>92</td>\n",
       "      <td>Final Critic</td>\n",
       "      <td>4.88</td>\n",
       "    </tr>\n",
       "    <tr>\n",
       "      <td>3</td>\n",
       "      <td>3</td>\n",
       "      <td>Chamassasya86</td>\n",
       "      <td>24</td>\n",
       "      <td>Male</td>\n",
       "      <td>100</td>\n",
       "      <td>Blindscythe</td>\n",
       "      <td>3.27</td>\n",
       "    </tr>\n",
       "    <tr>\n",
       "      <td>4</td>\n",
       "      <td>4</td>\n",
       "      <td>Iskosia90</td>\n",
       "      <td>23</td>\n",
       "      <td>Male</td>\n",
       "      <td>131</td>\n",
       "      <td>Fury</td>\n",
       "      <td>1.44</td>\n",
       "    </tr>\n",
       "  </tbody>\n",
       "</table>\n",
       "</div>"
      ],
      "text/plain": [
       "   Purchase ID             SN  Age Gender  Item ID  \\\n",
       "0            0        Lisim78   20   Male      108   \n",
       "1            1    Lisovynya38   40   Male      143   \n",
       "2            2     Ithergue48   24   Male       92   \n",
       "3            3  Chamassasya86   24   Male      100   \n",
       "4            4      Iskosia90   23   Male      131   \n",
       "\n",
       "                                   Item Name  Price  \n",
       "0  Extraction, Quickblade Of Trembling Hands   3.53  \n",
       "1                          Frenzied Scimitar   1.56  \n",
       "2                               Final Critic   4.88  \n",
       "3                                Blindscythe   3.27  \n",
       "4                                       Fury   1.44  "
      ]
     },
     "execution_count": 83,
     "metadata": {},
     "output_type": "execute_result"
    }
   ],
   "source": [
    "# Dependencies and Setup\n",
    "import pandas as pd\n",
    "import numpy as np\n",
    "\n",
    "# File to Load (Remember to Change These)\n",
    "file_to_load = \"../Resources/purchase_data.csv\"\n",
    "\n",
    "# Read Purchasing File and store into Pandas data frame\n",
    "purchase_data = pd.read_csv(file_to_load)\n",
    "purchase_data.head()"
   ]
  },
  {
   "cell_type": "markdown",
   "metadata": {},
   "source": [
    "## Player Count"
   ]
  },
  {
   "cell_type": "markdown",
   "metadata": {},
   "source": [
    "* Display the total number of players\n"
   ]
  },
  {
   "cell_type": "code",
   "execution_count": 84,
   "metadata": {},
   "outputs": [
    {
     "data": {
      "text/html": [
       "<div>\n",
       "<style scoped>\n",
       "    .dataframe tbody tr th:only-of-type {\n",
       "        vertical-align: middle;\n",
       "    }\n",
       "\n",
       "    .dataframe tbody tr th {\n",
       "        vertical-align: top;\n",
       "    }\n",
       "\n",
       "    .dataframe thead th {\n",
       "        text-align: right;\n",
       "    }\n",
       "</style>\n",
       "<table border=\"1\" class=\"dataframe\">\n",
       "  <thead>\n",
       "    <tr style=\"text-align: right;\">\n",
       "      <th></th>\n",
       "      <th>Total Players</th>\n",
       "    </tr>\n",
       "  </thead>\n",
       "  <tbody>\n",
       "    <tr>\n",
       "      <td>0</td>\n",
       "      <td>576</td>\n",
       "    </tr>\n",
       "  </tbody>\n",
       "</table>\n",
       "</div>"
      ],
      "text/plain": [
       "   Total Players\n",
       "0            576"
      ]
     },
     "execution_count": 84,
     "metadata": {},
     "output_type": "execute_result"
    }
   ],
   "source": [
    "Total_player = len(purchase_data [\"SN\"].value_counts())\n",
    "Player_count = pd.DataFrame({\"Total Players\":[Total_player]})\n",
    "Player_count"
   ]
  },
  {
   "cell_type": "markdown",
   "metadata": {},
   "source": [
    "## Purchasing Analysis (Total)"
   ]
  },
  {
   "cell_type": "markdown",
   "metadata": {},
   "source": [
    "* Run basic calculations to obtain number of unique items, average price, etc.\n",
    "\n",
    "\n",
    "* Create a summary data frame to hold the results\n",
    "\n",
    "\n",
    "* Optional: give the displayed data cleaner formatting\n",
    "\n",
    "\n",
    "* Display the summary data frame\n"
   ]
  },
  {
   "cell_type": "code",
   "execution_count": 85,
   "metadata": {
    "scrolled": true
   },
   "outputs": [
    {
     "data": {
      "text/html": [
       "<style  type=\"text/css\" >\n",
       "</style><table id=\"T_27c02e42_7962_11ea_972b_04ed33efb635\" ><thead>    <tr>        <th class=\"blank level0\" ></th>        <th class=\"col_heading level0 col0\" >Number of Unique Items</th>        <th class=\"col_heading level0 col1\" >Average Price</th>        <th class=\"col_heading level0 col2\" >Number of Purchases</th>        <th class=\"col_heading level0 col3\" >Total Revenue</th>    </tr></thead><tbody>\n",
       "                <tr>\n",
       "                        <th id=\"T_27c02e42_7962_11ea_972b_04ed33efb635level0_row0\" class=\"row_heading level0 row0\" >0</th>\n",
       "                        <td id=\"T_27c02e42_7962_11ea_972b_04ed33efb635row0_col0\" class=\"data row0 col0\" >179</td>\n",
       "                        <td id=\"T_27c02e42_7962_11ea_972b_04ed33efb635row0_col1\" class=\"data row0 col1\" >$3.05</td>\n",
       "                        <td id=\"T_27c02e42_7962_11ea_972b_04ed33efb635row0_col2\" class=\"data row0 col2\" >780</td>\n",
       "                        <td id=\"T_27c02e42_7962_11ea_972b_04ed33efb635row0_col3\" class=\"data row0 col3\" >$2,379.77</td>\n",
       "            </tr>\n",
       "    </tbody></table>"
      ],
      "text/plain": [
       "<pandas.io.formats.style.Styler at 0x18956b6ca88>"
      ]
     },
     "execution_count": 85,
     "metadata": {},
     "output_type": "execute_result"
    }
   ],
   "source": [
    "Item_name = len(purchase_data [\"Item Name\"].unique())\n",
    "Average_price = round(purchase_data [\"Price\"].mean(),2)\n",
    "Total_purchase = purchase_data [\"Price\"].count()\n",
    "Total_revenue = purchase_data [\"Price\"].sum()\n",
    "#Total_purchase\n",
    "#Total_revenue\n",
    "Purchasing_Analysis_df = pd.DataFrame ({\"Number of Unique Items\": [Item_name],\n",
    "                                       \"Average Price\": [Average_price],\n",
    "                                       \"Number of Purchases\": [Total_purchase],\n",
    "                                        \"Total Revenue\": [Total_revenue]})\n",
    "Purchasing_Analysis_df = Purchasing_Analysis_df.style.format({'Average Price':\"${:,.2f}\",\n",
    "                         'Total Revenue': '${:,.2f}'})\n",
    "Purchasing_Analysis_df"
   ]
  },
  {
   "cell_type": "markdown",
   "metadata": {},
   "source": [
    "## Gender Demographics"
   ]
  },
  {
   "cell_type": "markdown",
   "metadata": {},
   "source": [
    "* Percentage and Count of Male Players\n",
    "\n",
    "\n",
    "* Percentage and Count of Female Players\n",
    "\n",
    "\n",
    "* Percentage and Count of Other / Non-Disclosed\n",
    "\n",
    "\n"
   ]
  },
  {
   "cell_type": "code",
   "execution_count": 86,
   "metadata": {},
   "outputs": [
    {
     "data": {
      "text/html": [
       "<div>\n",
       "<style scoped>\n",
       "    .dataframe tbody tr th:only-of-type {\n",
       "        vertical-align: middle;\n",
       "    }\n",
       "\n",
       "    .dataframe tbody tr th {\n",
       "        vertical-align: top;\n",
       "    }\n",
       "\n",
       "    .dataframe thead th {\n",
       "        text-align: right;\n",
       "    }\n",
       "</style>\n",
       "<table border=\"1\" class=\"dataframe\">\n",
       "  <thead>\n",
       "    <tr style=\"text-align: right;\">\n",
       "      <th></th>\n",
       "      <th>Percentage of Players</th>\n",
       "      <th>Total Count</th>\n",
       "    </tr>\n",
       "  </thead>\n",
       "  <tbody>\n",
       "    <tr>\n",
       "      <td>Male</td>\n",
       "      <td>84.03</td>\n",
       "      <td>484</td>\n",
       "    </tr>\n",
       "    <tr>\n",
       "      <td>Female</td>\n",
       "      <td>14.06</td>\n",
       "      <td>81</td>\n",
       "    </tr>\n",
       "    <tr>\n",
       "      <td>Other / Non-Disclosed</td>\n",
       "      <td>1.91</td>\n",
       "      <td>11</td>\n",
       "    </tr>\n",
       "  </tbody>\n",
       "</table>\n",
       "</div>"
      ],
      "text/plain": [
       "                       Percentage of Players  Total Count\n",
       "Male                                   84.03          484\n",
       "Female                                 14.06           81\n",
       "Other / Non-Disclosed                   1.91           11"
      ]
     },
     "execution_count": 86,
     "metadata": {},
     "output_type": "execute_result"
    }
   ],
   "source": [
    "Remove_duplicate_data = purchase_data.drop_duplicates(subset=\"SN\", keep=\"first\")\n",
    "Remove_duplicate_data\n",
    "Gender_counts = Remove_duplicate_data[\"Gender\"].value_counts()\n",
    "Gender_counts\n",
    "Gender_percent = round(Gender_counts / Total_player * 100, 2)\n",
    "Gender_percent\n",
    "Gender_Demographics_df = pd.DataFrame({\"Percentage of Players\": Gender_percent,\n",
    "                                        \"Total Count\": Gender_counts})\n",
    "Gender_Demographics_df.head()"
   ]
  },
  {
   "cell_type": "markdown",
   "metadata": {},
   "source": [
    "\n",
    "## Purchasing Analysis (Gender)"
   ]
  },
  {
   "cell_type": "markdown",
   "metadata": {},
   "source": [
    "* Run basic calculations to obtain purchase count, avg. purchase price, avg. purchase total per person etc. by gender\n",
    "\n",
    "\n",
    "\n",
    "\n",
    "* Create a summary data frame to hold the results\n",
    "\n",
    "\n",
    "* Optional: give the displayed data cleaner formatting\n",
    "\n",
    "\n",
    "* Display the summary data frame"
   ]
  },
  {
   "cell_type": "code",
   "execution_count": 87,
   "metadata": {},
   "outputs": [
    {
     "data": {
      "text/html": [
       "<style  type=\"text/css\" >\n",
       "</style><table id=\"T_2c597e86_7962_11ea_be27_04ed33efb635\" ><thead>    <tr>        <th class=\"blank level0\" ></th>        <th class=\"col_heading level0 col0\" >Purchase Count</th>        <th class=\"col_heading level0 col1\" >Average Purchase Price</th>        <th class=\"col_heading level0 col2\" >Average Purchase Value</th>        <th class=\"col_heading level0 col3\" >Avg Purchase Total per Person</th>    </tr>    <tr>        <th class=\"index_name level0\" >Gender</th>        <th class=\"blank\" ></th>        <th class=\"blank\" ></th>        <th class=\"blank\" ></th>        <th class=\"blank\" ></th>    </tr></thead><tbody>\n",
       "                <tr>\n",
       "                        <th id=\"T_2c597e86_7962_11ea_be27_04ed33efb635level0_row0\" class=\"row_heading level0 row0\" >Female</th>\n",
       "                        <td id=\"T_2c597e86_7962_11ea_be27_04ed33efb635row0_col0\" class=\"data row0 col0\" >113</td>\n",
       "                        <td id=\"T_2c597e86_7962_11ea_be27_04ed33efb635row0_col1\" class=\"data row0 col1\" >$3.20</td>\n",
       "                        <td id=\"T_2c597e86_7962_11ea_be27_04ed33efb635row0_col2\" class=\"data row0 col2\" >$361.94</td>\n",
       "                        <td id=\"T_2c597e86_7962_11ea_be27_04ed33efb635row0_col3\" class=\"data row0 col3\" >$4.47</td>\n",
       "            </tr>\n",
       "            <tr>\n",
       "                        <th id=\"T_2c597e86_7962_11ea_be27_04ed33efb635level0_row1\" class=\"row_heading level0 row1\" >Male</th>\n",
       "                        <td id=\"T_2c597e86_7962_11ea_be27_04ed33efb635row1_col0\" class=\"data row1 col0\" >652</td>\n",
       "                        <td id=\"T_2c597e86_7962_11ea_be27_04ed33efb635row1_col1\" class=\"data row1 col1\" >$3.02</td>\n",
       "                        <td id=\"T_2c597e86_7962_11ea_be27_04ed33efb635row1_col2\" class=\"data row1 col2\" >$1,967.64</td>\n",
       "                        <td id=\"T_2c597e86_7962_11ea_be27_04ed33efb635row1_col3\" class=\"data row1 col3\" >$4.07</td>\n",
       "            </tr>\n",
       "            <tr>\n",
       "                        <th id=\"T_2c597e86_7962_11ea_be27_04ed33efb635level0_row2\" class=\"row_heading level0 row2\" >Other / Non-Disclosed</th>\n",
       "                        <td id=\"T_2c597e86_7962_11ea_be27_04ed33efb635row2_col0\" class=\"data row2 col0\" >15</td>\n",
       "                        <td id=\"T_2c597e86_7962_11ea_be27_04ed33efb635row2_col1\" class=\"data row2 col1\" >$3.35</td>\n",
       "                        <td id=\"T_2c597e86_7962_11ea_be27_04ed33efb635row2_col2\" class=\"data row2 col2\" >$50.19</td>\n",
       "                        <td id=\"T_2c597e86_7962_11ea_be27_04ed33efb635row2_col3\" class=\"data row2 col3\" >$4.56</td>\n",
       "            </tr>\n",
       "    </tbody></table>"
      ],
      "text/plain": [
       "<pandas.io.formats.style.Styler at 0x18956b64fc8>"
      ]
     },
     "execution_count": 87,
     "metadata": {},
     "output_type": "execute_result"
    }
   ],
   "source": [
    "Purchasing_per_gender = purchase_data.groupby(\"Gender\")\n",
    "Purchasing_per_gender_counts = Purchasing_per_gender[\"Purchase ID\"].count()\n",
    "Purchasing_per_gender_avrprice = round(Purchasing_per_gender[\"Price\"].mean(),2)\n",
    "Purchasing_per_gender_avrpurchasetotal = Purchasing_per_gender[\"Price\"].sum()\n",
    "Purchasing_per_gender_per_person_avepurchasetotal = round(Purchasing_per_gender_avrpurchasetotal/Gender_counts,2)\n",
    "Purchasing_Analysis_Gender_df = pd.DataFrame({\"Purchase Count\": Purchasing_per_gender_counts, \n",
    "                                    \"Average Purchase Price\": Purchasing_per_gender_avrprice,\n",
    "                                    \"Average Purchase Value\":Purchasing_per_gender_avrpurchasetotal,\n",
    "                                    \"Avg Purchase Total per Person\": Purchasing_per_gender_per_person_avepurchasetotal})\n",
    "Purchasing_Analysis_Gender_df = Purchasing_Analysis_Gender_df.style.format({'Average Purchase Price':\"${:,.2f}\",\n",
    "                         'Average Purchase Value': \"${:,.2f}\", 'Avg Purchase Total per Person': \"${:,.2f}\"})\n",
    "Purchasing_Analysis_Gender_df"
   ]
  },
  {
   "cell_type": "markdown",
   "metadata": {},
   "source": [
    "## Age Demographics"
   ]
  },
  {
   "cell_type": "markdown",
   "metadata": {},
   "source": [
    "* Establish bins for ages\n",
    "\n",
    "\n",
    "* Categorize the existing players using the age bins. Hint: use pd.cut()\n",
    "\n",
    "\n",
    "* Calculate the numbers and percentages by age group\n",
    "\n",
    "\n",
    "* Create a summary data frame to hold the results\n",
    "\n",
    "\n",
    "* Optional: round the percentage column to two decimal points\n",
    "\n",
    "\n",
    "* Display Age Demographics Table\n"
   ]
  },
  {
   "cell_type": "code",
   "execution_count": 88,
   "metadata": {},
   "outputs": [
    {
     "data": {
      "text/html": [
       "<div>\n",
       "<style scoped>\n",
       "    .dataframe tbody tr th:only-of-type {\n",
       "        vertical-align: middle;\n",
       "    }\n",
       "\n",
       "    .dataframe tbody tr th {\n",
       "        vertical-align: top;\n",
       "    }\n",
       "\n",
       "    .dataframe thead th {\n",
       "        text-align: right;\n",
       "    }\n",
       "</style>\n",
       "<table border=\"1\" class=\"dataframe\">\n",
       "  <thead>\n",
       "    <tr style=\"text-align: right;\">\n",
       "      <th></th>\n",
       "      <th>Total Count</th>\n",
       "      <th>Percentage of Players</th>\n",
       "    </tr>\n",
       "    <tr>\n",
       "      <th>Age Ranges</th>\n",
       "      <th></th>\n",
       "      <th></th>\n",
       "    </tr>\n",
       "  </thead>\n",
       "  <tbody>\n",
       "    <tr>\n",
       "      <td>&lt;10</td>\n",
       "      <td>17</td>\n",
       "      <td>2.95</td>\n",
       "    </tr>\n",
       "    <tr>\n",
       "      <td>10-14</td>\n",
       "      <td>22</td>\n",
       "      <td>3.82</td>\n",
       "    </tr>\n",
       "    <tr>\n",
       "      <td>15-19</td>\n",
       "      <td>107</td>\n",
       "      <td>18.58</td>\n",
       "    </tr>\n",
       "    <tr>\n",
       "      <td>20-24</td>\n",
       "      <td>258</td>\n",
       "      <td>44.79</td>\n",
       "    </tr>\n",
       "    <tr>\n",
       "      <td>25-29</td>\n",
       "      <td>77</td>\n",
       "      <td>13.37</td>\n",
       "    </tr>\n",
       "    <tr>\n",
       "      <td>30-34</td>\n",
       "      <td>52</td>\n",
       "      <td>9.03</td>\n",
       "    </tr>\n",
       "    <tr>\n",
       "      <td>35-39</td>\n",
       "      <td>31</td>\n",
       "      <td>5.38</td>\n",
       "    </tr>\n",
       "    <tr>\n",
       "      <td>40+</td>\n",
       "      <td>12</td>\n",
       "      <td>2.08</td>\n",
       "    </tr>\n",
       "  </tbody>\n",
       "</table>\n",
       "</div>"
      ],
      "text/plain": [
       "            Total Count  Percentage of Players\n",
       "Age Ranges                                    \n",
       "<10                  17                   2.95\n",
       "10-14                22                   3.82\n",
       "15-19               107                  18.58\n",
       "20-24               258                  44.79\n",
       "25-29                77                  13.37\n",
       "30-34                52                   9.03\n",
       "35-39                31                   5.38\n",
       "40+                  12                   2.08"
      ]
     },
     "execution_count": 88,
     "metadata": {},
     "output_type": "execute_result"
    }
   ],
   "source": [
    "age_bins = [0, 9.90, 14.90, 19.90, 24.90, 29.90, 34.90, 39.90, 99.90]\n",
    "age_label = [\"<10\", \"10-14\", \"15-19\", \"20-24\", \"25-29\", \"30-34\", \"35-39\", \"40+\"]\n",
    "purchase_data [\"Age Ranges\"] = pd.cut(purchase_data[\"Age\"], age_bins, labels=age_label)\n",
    "purchase_data.head()\n",
    "age_grouped = purchase_data.groupby(\"Age Ranges\")\n",
    "total_count_by_age = age_grouped[\"SN\"].nunique()\n",
    "percentage_by_age = round((total_count_by_age/Total_player) * 100, 2)\n",
    "Age_demographics = pd.DataFrame({\"Total Count\": total_count_by_age, \"Percentage of Players\": percentage_by_age})\n",
    "Age_demographics"
   ]
  },
  {
   "cell_type": "markdown",
   "metadata": {},
   "source": [
    "## Purchasing Analysis (Age)"
   ]
  },
  {
   "cell_type": "markdown",
   "metadata": {},
   "source": [
    "* Bin the purchase_data data frame by age\n",
    "\n",
    "\n",
    "* Run basic calculations to obtain purchase count, avg. purchase price, avg. purchase total per person etc. in the table below\n",
    "\n",
    "\n",
    "* Create a summary data frame to hold the results\n",
    "\n",
    "\n",
    "* Optional: give the displayed data cleaner formatting\n",
    "\n",
    "\n",
    "* Display the summary data frame"
   ]
  },
  {
   "cell_type": "code",
   "execution_count": 89,
   "metadata": {},
   "outputs": [
    {
     "data": {
      "text/html": [
       "<style  type=\"text/css\" >\n",
       "</style><table id=\"T_365c873a_7962_11ea_9890_04ed33efb635\" ><thead>    <tr>        <th class=\"blank level0\" ></th>        <th class=\"col_heading level0 col0\" >Purchase Count</th>        <th class=\"col_heading level0 col1\" >Average Purchase Price</th>        <th class=\"col_heading level0 col2\" >Total Purchase Value</th>        <th class=\"col_heading level0 col3\" >Average Purchase Total per Person</th>    </tr>    <tr>        <th class=\"index_name level0\" >Age Ranges</th>        <th class=\"blank\" ></th>        <th class=\"blank\" ></th>        <th class=\"blank\" ></th>        <th class=\"blank\" ></th>    </tr></thead><tbody>\n",
       "                <tr>\n",
       "                        <th id=\"T_365c873a_7962_11ea_9890_04ed33efb635level0_row0\" class=\"row_heading level0 row0\" ><10</th>\n",
       "                        <td id=\"T_365c873a_7962_11ea_9890_04ed33efb635row0_col0\" class=\"data row0 col0\" >23</td>\n",
       "                        <td id=\"T_365c873a_7962_11ea_9890_04ed33efb635row0_col1\" class=\"data row0 col1\" >$3.35</td>\n",
       "                        <td id=\"T_365c873a_7962_11ea_9890_04ed33efb635row0_col2\" class=\"data row0 col2\" >$77.13</td>\n",
       "                        <td id=\"T_365c873a_7962_11ea_9890_04ed33efb635row0_col3\" class=\"data row0 col3\" >$4.54</td>\n",
       "            </tr>\n",
       "            <tr>\n",
       "                        <th id=\"T_365c873a_7962_11ea_9890_04ed33efb635level0_row1\" class=\"row_heading level0 row1\" >10-14</th>\n",
       "                        <td id=\"T_365c873a_7962_11ea_9890_04ed33efb635row1_col0\" class=\"data row1 col0\" >28</td>\n",
       "                        <td id=\"T_365c873a_7962_11ea_9890_04ed33efb635row1_col1\" class=\"data row1 col1\" >$2.96</td>\n",
       "                        <td id=\"T_365c873a_7962_11ea_9890_04ed33efb635row1_col2\" class=\"data row1 col2\" >$82.78</td>\n",
       "                        <td id=\"T_365c873a_7962_11ea_9890_04ed33efb635row1_col3\" class=\"data row1 col3\" >$3.76</td>\n",
       "            </tr>\n",
       "            <tr>\n",
       "                        <th id=\"T_365c873a_7962_11ea_9890_04ed33efb635level0_row2\" class=\"row_heading level0 row2\" >15-19</th>\n",
       "                        <td id=\"T_365c873a_7962_11ea_9890_04ed33efb635row2_col0\" class=\"data row2 col0\" >136</td>\n",
       "                        <td id=\"T_365c873a_7962_11ea_9890_04ed33efb635row2_col1\" class=\"data row2 col1\" >$3.04</td>\n",
       "                        <td id=\"T_365c873a_7962_11ea_9890_04ed33efb635row2_col2\" class=\"data row2 col2\" >$412.89</td>\n",
       "                        <td id=\"T_365c873a_7962_11ea_9890_04ed33efb635row2_col3\" class=\"data row2 col3\" >$3.86</td>\n",
       "            </tr>\n",
       "            <tr>\n",
       "                        <th id=\"T_365c873a_7962_11ea_9890_04ed33efb635level0_row3\" class=\"row_heading level0 row3\" >20-24</th>\n",
       "                        <td id=\"T_365c873a_7962_11ea_9890_04ed33efb635row3_col0\" class=\"data row3 col0\" >365</td>\n",
       "                        <td id=\"T_365c873a_7962_11ea_9890_04ed33efb635row3_col1\" class=\"data row3 col1\" >$3.05</td>\n",
       "                        <td id=\"T_365c873a_7962_11ea_9890_04ed33efb635row3_col2\" class=\"data row3 col2\" >$1,114.06</td>\n",
       "                        <td id=\"T_365c873a_7962_11ea_9890_04ed33efb635row3_col3\" class=\"data row3 col3\" >$4.32</td>\n",
       "            </tr>\n",
       "            <tr>\n",
       "                        <th id=\"T_365c873a_7962_11ea_9890_04ed33efb635level0_row4\" class=\"row_heading level0 row4\" >25-29</th>\n",
       "                        <td id=\"T_365c873a_7962_11ea_9890_04ed33efb635row4_col0\" class=\"data row4 col0\" >101</td>\n",
       "                        <td id=\"T_365c873a_7962_11ea_9890_04ed33efb635row4_col1\" class=\"data row4 col1\" >$2.90</td>\n",
       "                        <td id=\"T_365c873a_7962_11ea_9890_04ed33efb635row4_col2\" class=\"data row4 col2\" >$293.00</td>\n",
       "                        <td id=\"T_365c873a_7962_11ea_9890_04ed33efb635row4_col3\" class=\"data row4 col3\" >$3.81</td>\n",
       "            </tr>\n",
       "            <tr>\n",
       "                        <th id=\"T_365c873a_7962_11ea_9890_04ed33efb635level0_row5\" class=\"row_heading level0 row5\" >30-34</th>\n",
       "                        <td id=\"T_365c873a_7962_11ea_9890_04ed33efb635row5_col0\" class=\"data row5 col0\" >73</td>\n",
       "                        <td id=\"T_365c873a_7962_11ea_9890_04ed33efb635row5_col1\" class=\"data row5 col1\" >$2.93</td>\n",
       "                        <td id=\"T_365c873a_7962_11ea_9890_04ed33efb635row5_col2\" class=\"data row5 col2\" >$214.00</td>\n",
       "                        <td id=\"T_365c873a_7962_11ea_9890_04ed33efb635row5_col3\" class=\"data row5 col3\" >$4.12</td>\n",
       "            </tr>\n",
       "            <tr>\n",
       "                        <th id=\"T_365c873a_7962_11ea_9890_04ed33efb635level0_row6\" class=\"row_heading level0 row6\" >35-39</th>\n",
       "                        <td id=\"T_365c873a_7962_11ea_9890_04ed33efb635row6_col0\" class=\"data row6 col0\" >41</td>\n",
       "                        <td id=\"T_365c873a_7962_11ea_9890_04ed33efb635row6_col1\" class=\"data row6 col1\" >$3.60</td>\n",
       "                        <td id=\"T_365c873a_7962_11ea_9890_04ed33efb635row6_col2\" class=\"data row6 col2\" >$147.67</td>\n",
       "                        <td id=\"T_365c873a_7962_11ea_9890_04ed33efb635row6_col3\" class=\"data row6 col3\" >$4.76</td>\n",
       "            </tr>\n",
       "            <tr>\n",
       "                        <th id=\"T_365c873a_7962_11ea_9890_04ed33efb635level0_row7\" class=\"row_heading level0 row7\" >40+</th>\n",
       "                        <td id=\"T_365c873a_7962_11ea_9890_04ed33efb635row7_col0\" class=\"data row7 col0\" >13</td>\n",
       "                        <td id=\"T_365c873a_7962_11ea_9890_04ed33efb635row7_col1\" class=\"data row7 col1\" >$2.94</td>\n",
       "                        <td id=\"T_365c873a_7962_11ea_9890_04ed33efb635row7_col2\" class=\"data row7 col2\" >$38.24</td>\n",
       "                        <td id=\"T_365c873a_7962_11ea_9890_04ed33efb635row7_col3\" class=\"data row7 col3\" >$3.19</td>\n",
       "            </tr>\n",
       "    </tbody></table>"
      ],
      "text/plain": [
       "<pandas.io.formats.style.Styler at 0x18956b51388>"
      ]
     },
     "execution_count": 89,
     "metadata": {},
     "output_type": "execute_result"
    }
   ],
   "source": [
    "Purchase_count_by_age = age_grouped[\"Purchase ID\"].count()\n",
    "Purchase_avg_by_age = round(age_grouped[\"Price\"].mean(), 2)\n",
    "Purchase_total_by_age = age_grouped[\"Price\"].sum()\n",
    "Avg_purchase_per_person_age = round(Purchase_total_by_age/total_count_by_age, 2)\n",
    "Purchasing_Analysis_By_Age = pd.DataFrame({\"Purchase Count\": Purchase_count_by_age,\n",
    "                                 \"Average Purchase Price\": Purchase_avg_by_age,\n",
    "                                 \"Total Purchase Value\":Purchase_total_by_age,\n",
    "                                 \"Average Purchase Total per Person\": Avg_purchase_per_person_age})\n",
    "Purchasing_Analysis_By_Age = Purchasing_Analysis_By_Age.style.format({'Average Purchase Price':\"${:,.2f}\",\n",
    "                         'Total Purchase Value': \"${:,.2f}\", 'Average Purchase Total per Person': \"${:,.2f}\"})\n",
    "Purchasing_Analysis_By_Age"
   ]
  },
  {
   "cell_type": "markdown",
   "metadata": {},
   "source": [
    "## Top Spenders"
   ]
  },
  {
   "cell_type": "markdown",
   "metadata": {},
   "source": [
    "* Run basic calculations to obtain the results in the table below\n",
    "\n",
    "\n",
    "* Create a summary data frame to hold the results\n",
    "\n",
    "\n",
    "* Sort the total purchase value column in descending order\n",
    "\n",
    "\n",
    "* Optional: give the displayed data cleaner formatting\n",
    "\n",
    "\n",
    "* Display a preview of the summary data frame\n",
    "\n"
   ]
  },
  {
   "cell_type": "code",
   "execution_count": 90,
   "metadata": {},
   "outputs": [
    {
     "data": {
      "text/html": [
       "<style  type=\"text/css\" >\n",
       "</style><table id=\"T_38b2c236_7962_11ea_88f8_04ed33efb635\" ><thead>    <tr>        <th class=\"blank level0\" ></th>        <th class=\"col_heading level0 col0\" >Purchase Count</th>        <th class=\"col_heading level0 col1\" >Average Purchase Price</th>        <th class=\"col_heading level0 col2\" >Total Purchase Value</th>    </tr>    <tr>        <th class=\"index_name level0\" >SN</th>        <th class=\"blank\" ></th>        <th class=\"blank\" ></th>        <th class=\"blank\" ></th>    </tr></thead><tbody>\n",
       "                <tr>\n",
       "                        <th id=\"T_38b2c236_7962_11ea_88f8_04ed33efb635level0_row0\" class=\"row_heading level0 row0\" >Lisosia93</th>\n",
       "                        <td id=\"T_38b2c236_7962_11ea_88f8_04ed33efb635row0_col0\" class=\"data row0 col0\" >5</td>\n",
       "                        <td id=\"T_38b2c236_7962_11ea_88f8_04ed33efb635row0_col1\" class=\"data row0 col1\" >$3.79</td>\n",
       "                        <td id=\"T_38b2c236_7962_11ea_88f8_04ed33efb635row0_col2\" class=\"data row0 col2\" >$18.96</td>\n",
       "            </tr>\n",
       "            <tr>\n",
       "                        <th id=\"T_38b2c236_7962_11ea_88f8_04ed33efb635level0_row1\" class=\"row_heading level0 row1\" >Idastidru52</th>\n",
       "                        <td id=\"T_38b2c236_7962_11ea_88f8_04ed33efb635row1_col0\" class=\"data row1 col0\" >4</td>\n",
       "                        <td id=\"T_38b2c236_7962_11ea_88f8_04ed33efb635row1_col1\" class=\"data row1 col1\" >$3.86</td>\n",
       "                        <td id=\"T_38b2c236_7962_11ea_88f8_04ed33efb635row1_col2\" class=\"data row1 col2\" >$15.45</td>\n",
       "            </tr>\n",
       "            <tr>\n",
       "                        <th id=\"T_38b2c236_7962_11ea_88f8_04ed33efb635level0_row2\" class=\"row_heading level0 row2\" >Chamjask73</th>\n",
       "                        <td id=\"T_38b2c236_7962_11ea_88f8_04ed33efb635row2_col0\" class=\"data row2 col0\" >3</td>\n",
       "                        <td id=\"T_38b2c236_7962_11ea_88f8_04ed33efb635row2_col1\" class=\"data row2 col1\" >$4.61</td>\n",
       "                        <td id=\"T_38b2c236_7962_11ea_88f8_04ed33efb635row2_col2\" class=\"data row2 col2\" >$13.83</td>\n",
       "            </tr>\n",
       "            <tr>\n",
       "                        <th id=\"T_38b2c236_7962_11ea_88f8_04ed33efb635level0_row3\" class=\"row_heading level0 row3\" >Iral74</th>\n",
       "                        <td id=\"T_38b2c236_7962_11ea_88f8_04ed33efb635row3_col0\" class=\"data row3 col0\" >4</td>\n",
       "                        <td id=\"T_38b2c236_7962_11ea_88f8_04ed33efb635row3_col1\" class=\"data row3 col1\" >$3.40</td>\n",
       "                        <td id=\"T_38b2c236_7962_11ea_88f8_04ed33efb635row3_col2\" class=\"data row3 col2\" >$13.62</td>\n",
       "            </tr>\n",
       "            <tr>\n",
       "                        <th id=\"T_38b2c236_7962_11ea_88f8_04ed33efb635level0_row4\" class=\"row_heading level0 row4\" >Iskadarya95</th>\n",
       "                        <td id=\"T_38b2c236_7962_11ea_88f8_04ed33efb635row4_col0\" class=\"data row4 col0\" >3</td>\n",
       "                        <td id=\"T_38b2c236_7962_11ea_88f8_04ed33efb635row4_col1\" class=\"data row4 col1\" >$4.37</td>\n",
       "                        <td id=\"T_38b2c236_7962_11ea_88f8_04ed33efb635row4_col2\" class=\"data row4 col2\" >$13.10</td>\n",
       "            </tr>\n",
       "    </tbody></table>"
      ],
      "text/plain": [
       "<pandas.io.formats.style.Styler at 0x18956b734c8>"
      ]
     },
     "execution_count": 90,
     "metadata": {},
     "output_type": "execute_result"
    }
   ],
   "source": [
    "spenders_grouped = purchase_data.groupby(\"SN\")\n",
    "spender_purchase_counts = spenders_grouped[\"SN\"].count()\n",
    "spender_purchase_aveprice = round (spenders_grouped[\"Price\"].mean(), 2)\n",
    "spender_purchase_total = spenders_grouped[\"Price\"].sum()\n",
    "top_spenders = pd.DataFrame({\"Purchase Count\": spender_purchase_counts, \"Average Purchase Price\": spender_purchase_aveprice,\n",
    "                             \"Total Purchase Value\": spender_purchase_total})\n",
    "top_spenders = top_spenders.sort_values([\"Total Purchase Value\"], ascending=False).head()\n",
    "top_spenders.style.format({'Average Purchase Price':\"${:,.2f}\", 'Total Purchase Value': \"${:,.2f}\"})\n"
   ]
  },
  {
   "cell_type": "markdown",
   "metadata": {},
   "source": [
    "## Most Popular Items"
   ]
  },
  {
   "cell_type": "markdown",
   "metadata": {},
   "source": [
    "* Retrieve the Item ID, Item Name, and Item Price columns\n",
    "\n",
    "\n",
    "* Group by Item ID and Item Name. Perform calculations to obtain purchase count, item price, and total purchase value\n",
    "\n",
    "\n",
    "* Create a summary data frame to hold the results\n",
    "\n",
    "\n",
    "* Sort the purchase count column in descending order\n",
    "\n",
    "\n",
    "* Optional: give the displayed data cleaner formatting\n",
    "\n",
    "\n",
    "* Display a preview of the summary data frame\n",
    "\n"
   ]
  },
  {
   "cell_type": "code",
   "execution_count": 91,
   "metadata": {},
   "outputs": [
    {
     "data": {
      "text/html": [
       "<style  type=\"text/css\" >\n",
       "</style><table id=\"T_3ad5438a_7962_11ea_a979_04ed33efb635\" ><thead>    <tr>        <th class=\"blank\" ></th>        <th class=\"blank level0\" ></th>        <th class=\"col_heading level0 col0\" >Purchase Count</th>        <th class=\"col_heading level0 col1\" >Item Price</th>        <th class=\"col_heading level0 col2\" >Total Purchase Value</th>    </tr>    <tr>        <th class=\"index_name level0\" >Item ID</th>        <th class=\"index_name level1\" >Item Name</th>        <th class=\"blank\" ></th>        <th class=\"blank\" ></th>        <th class=\"blank\" ></th>    </tr></thead><tbody>\n",
       "                <tr>\n",
       "                        <th id=\"T_3ad5438a_7962_11ea_a979_04ed33efb635level0_row0\" class=\"row_heading level0 row0\" >178</th>\n",
       "                        <th id=\"T_3ad5438a_7962_11ea_a979_04ed33efb635level1_row0\" class=\"row_heading level1 row0\" >Oathbreaker, Last Hope of the Breaking Storm</th>\n",
       "                        <td id=\"T_3ad5438a_7962_11ea_a979_04ed33efb635row0_col0\" class=\"data row0 col0\" >12</td>\n",
       "                        <td id=\"T_3ad5438a_7962_11ea_a979_04ed33efb635row0_col1\" class=\"data row0 col1\" >$4.23</td>\n",
       "                        <td id=\"T_3ad5438a_7962_11ea_a979_04ed33efb635row0_col2\" class=\"data row0 col2\" >$50.76</td>\n",
       "            </tr>\n",
       "            <tr>\n",
       "                        <th id=\"T_3ad5438a_7962_11ea_a979_04ed33efb635level0_row1\" class=\"row_heading level0 row1\" >145</th>\n",
       "                        <th id=\"T_3ad5438a_7962_11ea_a979_04ed33efb635level1_row1\" class=\"row_heading level1 row1\" >Fiery Glass Crusader</th>\n",
       "                        <td id=\"T_3ad5438a_7962_11ea_a979_04ed33efb635row1_col0\" class=\"data row1 col0\" >9</td>\n",
       "                        <td id=\"T_3ad5438a_7962_11ea_a979_04ed33efb635row1_col1\" class=\"data row1 col1\" >$4.58</td>\n",
       "                        <td id=\"T_3ad5438a_7962_11ea_a979_04ed33efb635row1_col2\" class=\"data row1 col2\" >$41.22</td>\n",
       "            </tr>\n",
       "            <tr>\n",
       "                        <th id=\"T_3ad5438a_7962_11ea_a979_04ed33efb635level0_row2\" class=\"row_heading level0 row2\" >108</th>\n",
       "                        <th id=\"T_3ad5438a_7962_11ea_a979_04ed33efb635level1_row2\" class=\"row_heading level1 row2\" >Extraction, Quickblade Of Trembling Hands</th>\n",
       "                        <td id=\"T_3ad5438a_7962_11ea_a979_04ed33efb635row2_col0\" class=\"data row2 col0\" >9</td>\n",
       "                        <td id=\"T_3ad5438a_7962_11ea_a979_04ed33efb635row2_col1\" class=\"data row2 col1\" >$3.53</td>\n",
       "                        <td id=\"T_3ad5438a_7962_11ea_a979_04ed33efb635row2_col2\" class=\"data row2 col2\" >$31.77</td>\n",
       "            </tr>\n",
       "            <tr>\n",
       "                        <th id=\"T_3ad5438a_7962_11ea_a979_04ed33efb635level0_row3\" class=\"row_heading level0 row3\" >82</th>\n",
       "                        <th id=\"T_3ad5438a_7962_11ea_a979_04ed33efb635level1_row3\" class=\"row_heading level1 row3\" >Nirvana</th>\n",
       "                        <td id=\"T_3ad5438a_7962_11ea_a979_04ed33efb635row3_col0\" class=\"data row3 col0\" >9</td>\n",
       "                        <td id=\"T_3ad5438a_7962_11ea_a979_04ed33efb635row3_col1\" class=\"data row3 col1\" >$4.90</td>\n",
       "                        <td id=\"T_3ad5438a_7962_11ea_a979_04ed33efb635row3_col2\" class=\"data row3 col2\" >$44.10</td>\n",
       "            </tr>\n",
       "            <tr>\n",
       "                        <th id=\"T_3ad5438a_7962_11ea_a979_04ed33efb635level0_row4\" class=\"row_heading level0 row4\" >19</th>\n",
       "                        <th id=\"T_3ad5438a_7962_11ea_a979_04ed33efb635level1_row4\" class=\"row_heading level1 row4\" >Pursuit, Cudgel of Necromancy</th>\n",
       "                        <td id=\"T_3ad5438a_7962_11ea_a979_04ed33efb635row4_col0\" class=\"data row4 col0\" >8</td>\n",
       "                        <td id=\"T_3ad5438a_7962_11ea_a979_04ed33efb635row4_col1\" class=\"data row4 col1\" >$1.02</td>\n",
       "                        <td id=\"T_3ad5438a_7962_11ea_a979_04ed33efb635row4_col2\" class=\"data row4 col2\" >$8.16</td>\n",
       "            </tr>\n",
       "    </tbody></table>"
      ],
      "text/plain": [
       "<pandas.io.formats.style.Styler at 0x18956d60488>"
      ]
     },
     "execution_count": 91,
     "metadata": {},
     "output_type": "execute_result"
    }
   ],
   "source": [
    "reduced_purchase_data = purchase_data[[\"Item ID\", \"Item Name\", \"Price\"]]\n",
    "reduced_purchase_data_grouped = reduced_purchase_data.groupby([\"Item ID\", \"Item Name\"])\n",
    "purchase_count = reduced_purchase_data_grouped[\"Item Name\"].count()\n",
    "purchase_value = (reduced_purchase_data_grouped[\"Price\"].sum())\n",
    "item_price = purchase_value/purchase_count\n",
    "most_popular_items = pd.DataFrame({\"Purchase Count\": purchase_count, \"Item Price\": item_price,\n",
    "                                   \"Total Purchase Value\": purchase_value})\n",
    "most_popular_items = most_popular_items.sort_values([\"Purchase Count\"], ascending=False).head()\n",
    "most_popular_items.style.format({'Item Price':\"${:,.2f}\", 'Total Purchase Value': \"${:,.2f}\"})"
   ]
  },
  {
   "cell_type": "markdown",
   "metadata": {},
   "source": [
    "## Most Profitable Items"
   ]
  },
  {
   "cell_type": "markdown",
   "metadata": {},
   "source": [
    "* Sort the above table by total purchase value in descending order\n",
    "\n",
    "\n",
    "* Optional: give the displayed data cleaner formatting\n",
    "\n",
    "\n",
    "* Display a preview of the data frame\n",
    "\n"
   ]
  },
  {
   "cell_type": "code",
   "execution_count": 92,
   "metadata": {
    "scrolled": true
   },
   "outputs": [
    {
     "data": {
      "text/html": [
       "<div>\n",
       "<style scoped>\n",
       "    .dataframe tbody tr th:only-of-type {\n",
       "        vertical-align: middle;\n",
       "    }\n",
       "\n",
       "    .dataframe tbody tr th {\n",
       "        vertical-align: top;\n",
       "    }\n",
       "\n",
       "    .dataframe thead th {\n",
       "        text-align: right;\n",
       "    }\n",
       "</style>\n",
       "<table border=\"1\" class=\"dataframe\">\n",
       "  <thead>\n",
       "    <tr style=\"text-align: right;\">\n",
       "      <th></th>\n",
       "      <th></th>\n",
       "      <th>Purchase Count</th>\n",
       "      <th>Item Price</th>\n",
       "      <th>Total Purchase Value</th>\n",
       "    </tr>\n",
       "    <tr>\n",
       "      <th>Item ID</th>\n",
       "      <th>Item Name</th>\n",
       "      <th></th>\n",
       "      <th></th>\n",
       "      <th></th>\n",
       "    </tr>\n",
       "  </thead>\n",
       "  <tbody>\n",
       "    <tr>\n",
       "      <td>178</td>\n",
       "      <td>Oathbreaker, Last Hope of the Breaking Storm</td>\n",
       "      <td>12</td>\n",
       "      <td>4.23</td>\n",
       "      <td>50.76</td>\n",
       "    </tr>\n",
       "    <tr>\n",
       "      <td>82</td>\n",
       "      <td>Nirvana</td>\n",
       "      <td>9</td>\n",
       "      <td>4.90</td>\n",
       "      <td>44.10</td>\n",
       "    </tr>\n",
       "    <tr>\n",
       "      <td>145</td>\n",
       "      <td>Fiery Glass Crusader</td>\n",
       "      <td>9</td>\n",
       "      <td>4.58</td>\n",
       "      <td>41.22</td>\n",
       "    </tr>\n",
       "    <tr>\n",
       "      <td>108</td>\n",
       "      <td>Extraction, Quickblade Of Trembling Hands</td>\n",
       "      <td>9</td>\n",
       "      <td>3.53</td>\n",
       "      <td>31.77</td>\n",
       "    </tr>\n",
       "    <tr>\n",
       "      <td>19</td>\n",
       "      <td>Pursuit, Cudgel of Necromancy</td>\n",
       "      <td>8</td>\n",
       "      <td>1.02</td>\n",
       "      <td>8.16</td>\n",
       "    </tr>\n",
       "  </tbody>\n",
       "</table>\n",
       "</div>"
      ],
      "text/plain": [
       "                                                      Purchase Count  \\\n",
       "Item ID Item Name                                                      \n",
       "178     Oathbreaker, Last Hope of the Breaking Storm              12   \n",
       "82      Nirvana                                                    9   \n",
       "145     Fiery Glass Crusader                                       9   \n",
       "108     Extraction, Quickblade Of Trembling Hands                  9   \n",
       "19      Pursuit, Cudgel of Necromancy                              8   \n",
       "\n",
       "                                                      Item Price  \\\n",
       "Item ID Item Name                                                  \n",
       "178     Oathbreaker, Last Hope of the Breaking Storm        4.23   \n",
       "82      Nirvana                                             4.90   \n",
       "145     Fiery Glass Crusader                                4.58   \n",
       "108     Extraction, Quickblade Of Trembling Hands           3.53   \n",
       "19      Pursuit, Cudgel of Necromancy                       1.02   \n",
       "\n",
       "                                                      Total Purchase Value  \n",
       "Item ID Item Name                                                           \n",
       "178     Oathbreaker, Last Hope of the Breaking Storm                 50.76  \n",
       "82      Nirvana                                                      44.10  \n",
       "145     Fiery Glass Crusader                                         41.22  \n",
       "108     Extraction, Quickblade Of Trembling Hands                    31.77  \n",
       "19      Pursuit, Cudgel of Necromancy                                 8.16  "
      ]
     },
     "execution_count": 92,
     "metadata": {},
     "output_type": "execute_result"
    }
   ],
   "source": [
    "most_popular_items = most_popular_items.sort_values([\"Total Purchase Value\"], ascending=False).head()\n",
    "most_popular_items"
   ]
  },
  {
   "cell_type": "code",
   "execution_count": null,
   "metadata": {},
   "outputs": [],
   "source": []
  }
 ],
 "metadata": {
  "anaconda-cloud": {},
  "kernel_info": {
   "name": "python3"
  },
  "kernelspec": {
   "display_name": "Python 3",
   "language": "python",
   "name": "python3"
  },
  "language_info": {
   "codemirror_mode": {
    "name": "ipython",
    "version": 3
   },
   "file_extension": ".py",
   "mimetype": "text/x-python",
   "name": "python",
   "nbconvert_exporter": "python",
   "pygments_lexer": "ipython3",
   "version": "3.7.4"
  },
  "latex_envs": {
   "LaTeX_envs_menu_present": true,
   "autoclose": false,
   "autocomplete": true,
   "bibliofile": "biblio.bib",
   "cite_by": "apalike",
   "current_citInitial": 1,
   "eqLabelWithNumbers": true,
   "eqNumInitial": 1,
   "hotkeys": {
    "equation": "Ctrl-E",
    "itemize": "Ctrl-I"
   },
   "labels_anchors": false,
   "latex_user_defs": false,
   "report_style_numbering": false,
   "user_envs_cfg": false
  },
  "nteract": {
   "version": "0.2.0"
  }
 },
 "nbformat": 4,
 "nbformat_minor": 2
}
